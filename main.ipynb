{
 "cells": [
  {
   "cell_type": "code",
   "execution_count": 1,
   "metadata": {},
   "outputs": [],
   "source": [
    "import numpy as np\n",
    "from rsr import sensor_bandpass"
   ]
  },
  {
   "cell_type": "code",
   "execution_count": 2,
   "metadata": {},
   "outputs": [],
   "source": [
    "# Data from NASA Ocean Color \n",
    "# https://oceancolor.gsfc.nasa.gov/resources/docs/rsr_tables/\n",
    "f0_hs = np.loadtxt(\"f0.txt\", skiprows=15)\n",
    "rayleigh_bodhaine_hs = np.loadtxt(\"rayleigh_bodhaine.txt\", skiprows=16)\n",
    "k_no2_hs = np.loadtxt(\"k_no2.txt\", skiprows=19)\n",
    "k_o3_anderson_hs = np.loadtxt(\"k_o3_anderson.txt\", skiprows=19)   "
   ]
  },
  {
   "cell_type": "markdown",
   "metadata": {},
   "source": [
    "# 和NASA Ocean Color生成的GOCI做对比"
   ]
  },
  {
   "cell_type": "markdown",
   "metadata": {},
   "source": [
    "# 生成GOCI2"
   ]
  },
  {
   "cell_type": "code",
   "execution_count": 3,
   "metadata": {},
   "outputs": [],
   "source": [
    "sensor = \"goci2\"\n",
    "sensor_RSR = \"gk2b_goci2_RSR.h5\"\n",
    "sensor_bandpass(\n",
    "    sensor, sensor_RSR, rayleigh_bodhaine_hs, k_o3_anderson_hs, k_no2_hs, f0_hs\n",
    ")"
   ]
  },
  {
   "cell_type": "markdown",
   "metadata": {},
   "source": [
    "# 生成GF4 PMI"
   ]
  },
  {
   "cell_type": "code",
   "execution_count": 4,
   "metadata": {},
   "outputs": [],
   "source": [
    "sensor = \"gf4_pmi\"\n",
    "sensor_RSR = \"gf4_pmi_RSR.h5\"\n",
    "sensor_bandpass(\n",
    "    sensor, sensor_RSR, rayleigh_bodhaine_hs, k_o3_anderson_hs, k_no2_hs, f0_hs\n",
    ")"
   ]
  }
 ],
 "metadata": {
  "kernelspec": {
   "display_name": "Python 3",
   "language": "python",
   "name": "python3"
  },
  "language_info": {
   "codemirror_mode": {
    "name": "ipython",
    "version": 3
   },
   "file_extension": ".py",
   "mimetype": "text/x-python",
   "name": "python",
   "nbconvert_exporter": "python",
   "pygments_lexer": "ipython3",
   "version": "3.11.6"
  }
 },
 "nbformat": 4,
 "nbformat_minor": 2
}
